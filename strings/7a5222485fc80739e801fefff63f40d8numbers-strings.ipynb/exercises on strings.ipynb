{
 "cells": [
  {
   "cell_type": "code",
   "execution_count": 1,
   "id": "4903e3e1-e689-4566-adc1-15eaa6cacec4",
   "metadata": {},
   "outputs": [
    {
     "name": "stdout",
     "output_type": "stream",
     "text": [
      "31536000\n"
     ]
    }
   ],
   "source": [
    "# Using Python, compute how many seconds are there in a year. Store that number in a variable called year_seconds.\n",
    "\n",
    "year_seconds = 365*24*60*60\n",
    "print(year_seconds)"
   ]
  },
  {
   "cell_type": "code",
   "execution_count": 2,
   "id": "68e5cf76-5e67-4ec8-b159-50ab702a0c09",
   "metadata": {},
   "outputs": [
    {
     "name": "stdout",
     "output_type": "stream",
     "text": [
      "1639872000\n"
     ]
    }
   ],
   "source": [
    "# Multiply that number by your age and store it in a new variable called life_seconds\n",
    "\n",
    "life_seconds = 52 * year_seconds\n",
    "print(life_seconds)\n",
    "\n"
   ]
  },
  {
   "cell_type": "code",
   "execution_count": 14,
   "id": "2c6eae8e-b7aa-4612-951a-0b3917bad41d",
   "metadata": {},
   "outputs": [
    {
     "name": "stdout",
     "output_type": "stream",
     "text": [
      "9158400\n"
     ]
    }
   ],
   "source": [
    "#Find out how many seconds are there in the time you'll spend coursing this bootcamp. Store it into a variable called bootcamp.\n",
    "\n",
    "from datetime import date\n",
    "bootcamp = int((date(2022, 4, 19) - date(2022, 1, 3)).total_seconds())\n",
    "print(bootcamp)"
   ]
  },
  {
   "cell_type": "code",
   "execution_count": 19,
   "id": "c99291b5-92a0-4b30-95d3-83f72c62271a",
   "metadata": {},
   "outputs": [
    {
     "name": "stdout",
     "output_type": "stream",
     "text": [
      "1%\n"
     ]
    }
   ],
   "source": [
    "#Find out what percentage of your life will you spend coursing this bootcamp.\n",
    "\n",
    "percentage_of_life = \"{:.0%}\".format(bootcamp / life_seconds)\n",
    "print(percentage_of_life)"
   ]
  },
  {
   "cell_type": "code",
   "execution_count": null,
   "id": "0b771274-1eb1-4679-b0ce-fb9110cdd22c",
   "metadata": {},
   "outputs": [],
   "source": []
  }
 ],
 "metadata": {
  "kernelspec": {
   "display_name": "Python 3",
   "language": "python",
   "name": "python3"
  },
  "language_info": {
   "codemirror_mode": {
    "name": "ipython",
    "version": 3
   },
   "file_extension": ".py",
   "mimetype": "text/x-python",
   "name": "python",
   "nbconvert_exporter": "python",
   "pygments_lexer": "ipython3",
   "version": "3.8.8"
  }
 },
 "nbformat": 4,
 "nbformat_minor": 5
}
