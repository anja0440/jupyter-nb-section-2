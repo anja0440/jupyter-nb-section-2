{
 "cells": [
  {
   "cell_type": "markdown",
   "metadata": {},
   "source": [
    "# Pandas challenges"
   ]
  },
  {
   "cell_type": "markdown",
   "metadata": {},
   "source": [
    "Read the `veahicles.csv` dataframe and store it in a variable called `cars`:"
   ]
  },
  {
   "cell_type": "code",
   "execution_count": 1,
   "metadata": {},
   "outputs": [],
   "source": [
    "import pandas as pd\n",
    "cars = pd.read_csv('vehicles.csv')"
   ]
  },
  {
   "cell_type": "code",
   "execution_count": 8,
   "metadata": {},
   "outputs": [
    {
     "name": "stdout",
     "output_type": "stream",
     "text": [
      "<class 'pandas.core.frame.DataFrame'>\n",
      "RangeIndex: 35952 entries, 0 to 35951\n",
      "Data columns (total 15 columns):\n",
      " #   Column                   Non-Null Count  Dtype  \n",
      "---  ------                   --------------  -----  \n",
      " 0   Make                     35952 non-null  object \n",
      " 1   Model                    35952 non-null  object \n",
      " 2   Year                     35952 non-null  int64  \n",
      " 3   Engine Displacement      35952 non-null  float64\n",
      " 4   Cylinders                35952 non-null  float64\n",
      " 5   Transmission             35952 non-null  object \n",
      " 6   Drivetrain               35952 non-null  object \n",
      " 7   Vehicle Class            35952 non-null  object \n",
      " 8   Fuel Type                35952 non-null  object \n",
      " 9   Fuel Barrels/Year        35952 non-null  float64\n",
      " 10  City MPG                 35952 non-null  int64  \n",
      " 11  Highway MPG              35952 non-null  int64  \n",
      " 12  Combined MPG             35952 non-null  int64  \n",
      " 13  CO2 Emission Grams/Mile  35952 non-null  float64\n",
      " 14  Fuel Cost/Year           35952 non-null  int64  \n",
      "dtypes: float64(4), int64(5), object(6)\n",
      "memory usage: 4.1+ MB\n"
     ]
    }
   ],
   "source": [
    "cars.info()"
   ]
  },
  {
   "cell_type": "code",
   "execution_count": 2,
   "metadata": {},
   "outputs": [
    {
     "name": "stdout",
     "output_type": "stream",
     "text": [
      "               Make                Model  Year  Engine Displacement  \\\n",
      "0        AM General    DJ Po Vehicle 2WD  1984                  2.5   \n",
      "1        AM General     FJ8c Post Office  1984                  4.2   \n",
      "2        AM General  Post Office DJ5 2WD  1985                  2.5   \n",
      "3        AM General  Post Office DJ8 2WD  1985                  4.2   \n",
      "4  ASC Incorporated                  GNX  1987                  3.8   \n",
      "\n",
      "   Cylinders     Transmission        Drivetrain                Vehicle Class  \\\n",
      "0        4.0  Automatic 3-spd     2-Wheel Drive  Special Purpose Vehicle 2WD   \n",
      "1        6.0  Automatic 3-spd     2-Wheel Drive  Special Purpose Vehicle 2WD   \n",
      "2        4.0  Automatic 3-spd  Rear-Wheel Drive  Special Purpose Vehicle 2WD   \n",
      "3        6.0  Automatic 3-spd  Rear-Wheel Drive  Special Purpose Vehicle 2WD   \n",
      "4        6.0  Automatic 4-spd  Rear-Wheel Drive                 Midsize Cars   \n",
      "\n",
      "  Fuel Type  Fuel Barrels/Year  City MPG  Highway MPG  Combined MPG  \\\n",
      "0   Regular          19.388824        18           17            17   \n",
      "1   Regular          25.354615        13           13            13   \n",
      "2   Regular          20.600625        16           17            16   \n",
      "3   Regular          25.354615        13           13            13   \n",
      "4   Premium          20.600625        14           21            16   \n",
      "\n",
      "   CO2 Emission Grams/Mile  Fuel Cost/Year  \n",
      "0               522.764706            1950  \n",
      "1               683.615385            2550  \n",
      "2               555.437500            2100  \n",
      "3               683.615385            2550  \n",
      "4               555.437500            2550  \n"
     ]
    }
   ],
   "source": [
    "print(cars.head(5))"
   ]
  },
  {
   "cell_type": "markdown",
   "metadata": {},
   "source": [
    "Explore the dataset:\n",
    "\n",
    "- How many rows and columns are there?\n",
    "\n",
    "- What are the data types of the columns?\n",
    "\n",
    "- Are there missing values?\n",
    "\n",
    "- What are the ranges / distributions of the numerical columns?\n",
    "\n",
    "- What are the value counts for the categorical columns?"
   ]
  },
  {
   "cell_type": "code",
   "execution_count": 1,
   "metadata": {},
   "outputs": [],
   "source": [
    "# code here"
   ]
  },
  {
   "cell_type": "markdown",
   "metadata": {},
   "source": [
    "Drop the column \"Combined MPG\""
   ]
  },
  {
   "cell_type": "code",
   "execution_count": 14,
   "metadata": {},
   "outputs": [],
   "source": [
    "cars.drop(columns = ['Combined MPG'], inplace=True)"
   ]
  },
  {
   "cell_type": "markdown",
   "metadata": {},
   "source": [
    "Change column names so that there are no names with spaces or weird special characters:"
   ]
  },
  {
   "cell_type": "code",
   "execution_count": 5,
   "metadata": {},
   "outputs": [
    {
     "name": "stdout",
     "output_type": "stream",
     "text": [
      "         Make              Model  Year  Engine_Displacement  Cylinders  \\\n",
      "0  AM General  DJ Po Vehicle 2WD  1984                  2.5        4.0   \n",
      "1  AM General   FJ8c Post Office  1984                  4.2        6.0   \n",
      "\n",
      "      Transmission     Drivetrain                Vehicle_Class Fuel_Type  \\\n",
      "0  Automatic 3-spd  2-Wheel Drive  Special Purpose Vehicle 2WD   Regular   \n",
      "1  Automatic 3-spd  2-Wheel Drive  Special Purpose Vehicle 2WD   Regular   \n",
      "\n",
      "   Fuel_Barrels_p_Year  City_MPG  Highway_MPG  Combined MPG  \\\n",
      "0            19.388824        18           17            17   \n",
      "1            25.354615        13           13            13   \n",
      "\n",
      "   CO2_Emission_Grams_p_Mile  Fuel_Cost_p_Year  \n",
      "0                 522.764706              1950  \n",
      "1                 683.615385              2550  \n"
     ]
    }
   ],
   "source": [
    "cars.rename(columns = {\n",
    "    'Engine Displacement' : 'Engine_Displacement',\n",
    "    'Vehicle Class' : 'Vehicle_Class',\n",
    "    'Fuel Type' : 'Fuel_Type',\n",
    "    'Fuel Barrels/Year' : 'Fuel_Barrels_p_Year',\n",
    "    'City MPG' : 'City_MPG',\n",
    "    'Highway MPG' : 'Highway_MPG',\n",
    "    'CO2 Emission Grams/Mile' : 'CO2_Emission_Grams_p_Mile',\n",
    "    'Fuel Cost/Year' : 'Fuel_Cost_p_Year'}, inplace=True)\n",
    "print(cars.head(2))"
   ]
  },
  {
   "cell_type": "markdown",
   "metadata": {},
   "source": [
    "What brand has the most cars?"
   ]
  },
  {
   "cell_type": "code",
   "execution_count": 3,
   "metadata": {},
   "outputs": [
    {
     "name": "stdout",
     "output_type": "stream",
     "text": [
      "smart\n"
     ]
    }
   ],
   "source": [
    "print(cars.Make.max())"
   ]
  },
  {
   "cell_type": "markdown",
   "metadata": {},
   "source": [
    "What brand has the worse CO2 Emissions on average?"
   ]
  },
  {
   "cell_type": "code",
   "execution_count": 9,
   "metadata": {},
   "outputs": [
    {
     "name": "stdout",
     "output_type": "stream",
     "text": [
      "Make\n",
      "Lamborghini    1269.571429\n",
      "Ferrari        1110.875000\n",
      "Maserati       1110.875000\n",
      "Rolls-Royce    1110.875000\n",
      "Vector         1110.875000\n",
      "Name: CO2_Emission_Grams_p_Mile, dtype: float64\n"
     ]
    }
   ],
   "source": [
    "print(cars.groupby(['Make']).CO2_Emission_Grams_p_Mile.max().sort_values(ascending=False).head(5))"
   ]
  },
  {
   "cell_type": "markdown",
   "metadata": {},
   "source": [
    "Which brands are more environment friendly?"
   ]
  },
  {
   "cell_type": "code",
   "execution_count": 12,
   "metadata": {},
   "outputs": [
    {
     "name": "stdout",
     "output_type": "stream",
     "text": [
      "Make\n",
      "BMW           37.0\n",
      "Chevrolet     51.0\n",
      "Cadillac      91.0\n",
      "Hyundai      101.0\n",
      "Ford         112.0\n",
      "Name: CO2_Emission_Grams_p_Mile, dtype: float64\n"
     ]
    }
   ],
   "source": [
    "print(cars.groupby(['Make']).CO2_Emission_Grams_p_Mile.min().sort_values(ascending=True).head(5))"
   ]
  },
  {
   "cell_type": "markdown",
   "metadata": {},
   "source": [
    "Create 4 groups (bins) of cars, by Year. We want to explore how cars have evolved decade by decade."
   ]
  },
  {
   "cell_type": "code",
   "execution_count": 35,
   "metadata": {},
   "outputs": [],
   "source": [
    "def decades(Year):\n",
    "    if 1980 <= Year < 1990: return '1980s'\n",
    "    elif 1990 <= Year < 2000: return '1990s'\n",
    "    elif 2000 <= Year <2010: return '2000s'\n",
    "    else: return '2010s'"
   ]
  },
  {
   "cell_type": "code",
   "execution_count": 36,
   "metadata": {},
   "outputs": [
    {
     "name": "stdout",
     "output_type": "stream",
     "text": [
      "         Make                Model  Year  Engine_Displacement  Cylinders  \\\n",
      "0  AM General    DJ Po Vehicle 2WD  1984                  2.5        4.0   \n",
      "1  AM General     FJ8c Post Office  1984                  4.2        6.0   \n",
      "2  AM General  Post Office DJ5 2WD  1985                  2.5        4.0   \n",
      "\n",
      "      Transmission        Drivetrain                Vehicle_Class Fuel_Type  \\\n",
      "0  Automatic 3-spd     2-Wheel Drive  Special Purpose Vehicle 2WD   Regular   \n",
      "1  Automatic 3-spd     2-Wheel Drive  Special Purpose Vehicle 2WD   Regular   \n",
      "2  Automatic 3-spd  Rear-Wheel Drive  Special Purpose Vehicle 2WD   Regular   \n",
      "\n",
      "   Fuel_Barrels_p_Year  City_MPG  Highway_MPG  Combined MPG  \\\n",
      "0            19.388824        18           17            17   \n",
      "1            25.354615        13           13            13   \n",
      "2            20.600625        16           17            16   \n",
      "\n",
      "   CO2_Emission_Grams_p_Mile  Fuel_Cost_p_Year Decade  \n",
      "0                 522.764706              1950  1980s  \n",
      "1                 683.615385              2550  1980s  \n",
      "2                 555.437500              2100  1980s  \n"
     ]
    }
   ],
   "source": [
    "cars['Decade'] = cars.Year.apply(decades)\n",
    "print(cars.head(3))"
   ]
  },
  {
   "cell_type": "code",
   "execution_count": 37,
   "metadata": {},
   "outputs": [
    {
     "name": "stdout",
     "output_type": "stream",
     "text": [
      "[1984 1985 1987 1997 1998 1999 1995 1996 2001 2002 2003 2000 2004 2013\n",
      " 2014 2015 2016 2017 1986 1988 1989 1990 1991 1992 1993 1994 2005 2006\n",
      " 2007 2008 2009 2010 2011 2012]\n"
     ]
    }
   ],
   "source": [
    "print(cars.Year.unique())"
   ]
  },
  {
   "cell_type": "code",
   "execution_count": 38,
   "metadata": {},
   "outputs": [
    {
     "name": "stdout",
     "output_type": "stream",
     "text": [
      "['1980s' '1990s' '2000s' '2010s']\n"
     ]
    }
   ],
   "source": [
    "print(cars.Decade.unique())"
   ]
  },
  {
   "cell_type": "markdown",
   "metadata": {},
   "source": [
    "Did cars consume more gas in the eighties?"
   ]
  },
  {
   "cell_type": "code",
   "execution_count": 39,
   "metadata": {},
   "outputs": [
    {
     "name": "stdout",
     "output_type": "stream",
     "text": [
      "  Decade  Fuel_Barrels_p_Year\n",
      "0  1980s            18.552822\n",
      "1  1990s            18.293291\n",
      "2  2000s            17.962477\n",
      "3  2010s            15.778968\n"
     ]
    }
   ],
   "source": [
    "print(cars.groupby(['Decade']).Fuel_Barrels_p_Year.mean().reset_index())"
   ]
  },
  {
   "cell_type": "markdown",
   "metadata": {},
   "source": [
    "Do cars with automatic transmission consume more fuel than cars with manual transmission?"
   ]
  },
  {
   "cell_type": "code",
   "execution_count": 50,
   "metadata": {},
   "outputs": [],
   "source": [
    "### see below: 41, 62, 64\n",
    "# code here\n",
    "# in the next notebook, we will learn how we can clean the \"Trans\" column"
   ]
  },
  {
   "cell_type": "code",
   "execution_count": null,
   "metadata": {},
   "outputs": [],
   "source": [
    "### see below: 67, 70,71"
   ]
  },
  {
   "cell_type": "markdown",
   "metadata": {},
   "source": [
    "Group cars by fuel type and aggregate them by the following criteria: \n",
    "\n",
    "- The maximum number cylinders\n",
    "- The oldest year\n",
    "- The average Miles Per Gallon in the city"
   ]
  },
  {
   "cell_type": "code",
   "execution_count": 41,
   "metadata": {},
   "outputs": [
    {
     "name": "stdout",
     "output_type": "stream",
     "text": [
      "['Automatic 3-spd' 'Automatic 4-spd' 'Manual 5-spd' 'Automatic (S5)'\n",
      " 'Manual 6-spd' 'Automatic 5-spd' 'Auto(AM8)' 'Auto(AM-S8)' 'Auto(AV-S7)'\n",
      " 'Automatic (S6)' 'Automatic (S9)' 'Automatic (S4)' 'Auto(AM-S9)'\n",
      " 'Automatic (S7)' 'Auto(AM7)' 'Auto(AM-S7)' 'Auto(AM6)' 'Automatic 6-spd'\n",
      " 'Manual 4-spd' 'Automatic (S8)' 'Manual(M7)' 'Auto(AM-S6)'\n",
      " 'Automatic (variable gear ratios)' 'Automatic (AV)' 'Auto(AV-S8)'\n",
      " 'Automatic (AM6)' 'Automatic 8-spd' 'Auto(A1)' 'Automatic (A1)'\n",
      " 'Automatic (A6)' 'Auto(AV-S6)' 'Manual 3-spd' 'Manual 7-spd'\n",
      " 'Automatic 9-spd' 'Auto (AV)' 'Automatic 6spd' 'Auto(L4)' 'Auto(L3)'\n",
      " 'Auto (AV-S6)' 'Auto (AV-S8)' 'Automatic (AV-S6)' 'Automatic 7-spd'\n",
      " 'Manual 5 spd' 'Auto(AM5)' 'Automatic (AM5)']\n"
     ]
    }
   ],
   "source": [
    "print(cars.Transmission.unique())"
   ]
  },
  {
   "cell_type": "code",
   "execution_count": 62,
   "metadata": {},
   "outputs": [
    {
     "name": "stdout",
     "output_type": "stream",
     "text": [
      "         Make                Model  Year  Engine_Displacement  Cylinders  \\\n",
      "0  AM General    DJ Po Vehicle 2WD  1984                  2.5        4.0   \n",
      "1  AM General     FJ8c Post Office  1984                  4.2        6.0   \n",
      "2  AM General  Post Office DJ5 2WD  1985                  2.5        4.0   \n",
      "\n",
      "      Transmission        Drivetrain                Vehicle_Class Fuel_Type  \\\n",
      "0  Automatic 3-spd     2-Wheel Drive  Special Purpose Vehicle 2WD   Regular   \n",
      "1  Automatic 3-spd     2-Wheel Drive  Special Purpose Vehicle 2WD   Regular   \n",
      "2  Automatic 3-spd  Rear-Wheel Drive  Special Purpose Vehicle 2WD   Regular   \n",
      "\n",
      "   Fuel_Barrels_p_Year  City_MPG  Highway_MPG  Combined MPG  \\\n",
      "0            19.388824        18           17            17   \n",
      "1            25.354615        13           13            13   \n",
      "2            20.600625        16           17            16   \n",
      "\n",
      "   CO2_Emission_Grams_p_Mile  Fuel_Cost_p_Year Decade manual_automatic  \n",
      "0                 522.764706              1950  1980s        automatic  \n",
      "1                 683.615385              2550  1980s        automatic  \n",
      "2                 555.437500              2100  1980s        automatic  \n"
     ]
    }
   ],
   "source": [
    "cars['manual_automatic'] = cars.apply(lambda row:\n",
    "'manual' if row['Transmission'][0] == 'M' else 'automatic', axis=1\n",
    ")\n",
    "print(cars.head(3))"
   ]
  },
  {
   "cell_type": "markdown",
   "metadata": {},
   "source": [
    "Do cars with automatic transmission consume more fuel than cars with manual transmission?"
   ]
  },
  {
   "cell_type": "code",
   "execution_count": 64,
   "metadata": {},
   "outputs": [
    {
     "name": "stdout",
     "output_type": "stream",
     "text": [
      "  manual_automatic  Fuel_Barrels_p_Year\n",
      "0        automatic            18.043152\n",
      "1           manual            16.704904\n"
     ]
    }
   ],
   "source": [
    "print(cars.groupby(['manual_automatic']).Fuel_Barrels_p_Year.mean().reset_index())"
   ]
  },
  {
   "cell_type": "code",
   "execution_count": null,
   "metadata": {},
   "outputs": [],
   "source": [
    "#Group cars by fuel type and aggregate them by the following criteria:\n",
    "\n",
    "#The maximum number cylinders\n",
    "#The oldest year\n",
    "#The average Miles Per Gallon in the city"
   ]
  },
  {
   "cell_type": "code",
   "execution_count": 67,
   "metadata": {},
   "outputs": [
    {
     "name": "stdout",
     "output_type": "stream",
     "text": [
      "Fuel_Type\n",
      "Premium           16.0\n",
      "Premium or E85    12.0\n",
      "Regular           12.0\n",
      "Diesel            10.0\n",
      "CNG                8.0\n",
      "Name: Cylinders, dtype: float64\n"
     ]
    }
   ],
   "source": [
    "print(cars.groupby(['Fuel_Type']).Cylinders.max().sort_values(ascending=False).head(5))"
   ]
  },
  {
   "cell_type": "code",
   "execution_count": 70,
   "metadata": {},
   "outputs": [
    {
     "name": "stdout",
     "output_type": "stream",
     "text": [
      "Fuel_Type\n",
      "Diesel             1984\n",
      "Regular            1984\n",
      "Premium            1985\n",
      "CNG                1993\n",
      "Gasoline or E85    2000\n",
      "Name: Year, dtype: int64\n"
     ]
    }
   ],
   "source": [
    "print(cars.groupby(['Fuel_Type']).Year.min().sort_values(ascending=True).head(5))"
   ]
  },
  {
   "cell_type": "code",
   "execution_count": 71,
   "metadata": {},
   "outputs": [
    {
     "name": "stdout",
     "output_type": "stream",
     "text": [
      "Fuel_Type\n",
      "CNG                            15.966667\n",
      "Diesel                         21.173436\n",
      "Gasoline or E85                15.347280\n",
      "Gasoline or natural gas        13.700000\n",
      "Gasoline or propane            12.000000\n",
      "Midgrade                       14.851351\n",
      "Premium                        16.793166\n",
      "Premium Gas or Electricity     30.705882\n",
      "Premium and Electricity        24.900000\n",
      "Premium or E85                 17.305785\n",
      "Regular                        17.970195\n",
      "Regular Gas and Electricity    43.125000\n",
      "Regular Gas or Electricity     43.000000\n",
      "Name: City_MPG, dtype: float64\n"
     ]
    }
   ],
   "source": [
    "print(cars.groupby(['Fuel_Type']).City_MPG.mean())"
   ]
  },
  {
   "cell_type": "markdown",
   "metadata": {},
   "source": [
    "We want to use \"Drivetrain\" in a statistical model. Convert the column to numeric."
   ]
  },
  {
   "cell_type": "code",
   "execution_count": 74,
   "metadata": {},
   "outputs": [
    {
     "name": "stdout",
     "output_type": "stream",
     "text": [
      "<class 'pandas.core.frame.DataFrame'>\n",
      "RangeIndex: 35952 entries, 0 to 35951\n",
      "Data columns (total 17 columns):\n",
      " #   Column                     Non-Null Count  Dtype  \n",
      "---  ------                     --------------  -----  \n",
      " 0   Make                       35952 non-null  object \n",
      " 1   Model                      35952 non-null  object \n",
      " 2   Year                       35952 non-null  int64  \n",
      " 3   Engine_Displacement        35952 non-null  float64\n",
      " 4   Cylinders                  35952 non-null  float64\n",
      " 5   Transmission               35952 non-null  object \n",
      " 6   Drivetrain                 0 non-null      float64\n",
      " 7   Vehicle_Class              35952 non-null  object \n",
      " 8   Fuel_Type                  35952 non-null  object \n",
      " 9   Fuel_Barrels_p_Year        35952 non-null  float64\n",
      " 10  City_MPG                   35952 non-null  int64  \n",
      " 11  Highway_MPG                35952 non-null  int64  \n",
      " 12  Combined MPG               35952 non-null  int64  \n",
      " 13  CO2_Emission_Grams_p_Mile  35952 non-null  float64\n",
      " 14  Fuel_Cost_p_Year           35952 non-null  int64  \n",
      " 15  Decade                     35952 non-null  object \n",
      " 16  manual_automatic           35952 non-null  object \n",
      "dtypes: float64(5), int64(5), object(7)\n",
      "memory usage: 4.7+ MB\n"
     ]
    }
   ],
   "source": [
    "# df[[\"a\", \"b\"]] = df[[\"a\", \"b\"]].apply(pd.to_numeric)\n",
    "cars[['Drivetrain']] = cars[['Drivetrain']].apply(pd.to_numeric, errors='coerce')\n",
    "cars.info()"
   ]
  },
  {
   "cell_type": "markdown",
   "metadata": {},
   "source": [
    "Read the `car_brands.csv` data:"
   ]
  },
  {
   "cell_type": "code",
   "execution_count": 75,
   "metadata": {},
   "outputs": [],
   "source": [
    "car_brands = pd.read_csv('car_brands.csv')"
   ]
  },
  {
   "cell_type": "markdown",
   "metadata": {},
   "source": [
    "Join the cars dataframe with the car brands dataframe."
   ]
  },
  {
   "cell_type": "code",
   "execution_count": 77,
   "metadata": {},
   "outputs": [
    {
     "name": "stdout",
     "output_type": "stream",
     "text": [
      "              brand  revenue  production\n",
      "0        AM General     1537    1.002916\n",
      "1  ASC Incorporated      232    1.628105\n",
      "2             Acura      234    3.394481\n"
     ]
    }
   ],
   "source": [
    "print(car_brands.head(3))"
   ]
  },
  {
   "cell_type": "code",
   "execution_count": null,
   "metadata": {},
   "outputs": [],
   "source": []
  },
  {
   "cell_type": "markdown",
   "metadata": {},
   "source": [
    "Which brands have the most revenue?"
   ]
  },
  {
   "cell_type": "code",
   "execution_count": 44,
   "metadata": {},
   "outputs": [],
   "source": [
    "# code here"
   ]
  }
 ],
 "metadata": {
  "kernelspec": {
   "display_name": "Python 3",
   "language": "python",
   "name": "python3"
  },
  "language_info": {
   "codemirror_mode": {
    "name": "ipython",
    "version": 3
   },
   "file_extension": ".py",
   "mimetype": "text/x-python",
   "name": "python",
   "nbconvert_exporter": "python",
   "pygments_lexer": "ipython3",
   "version": "3.8.8"
  },
  "toc": {
   "base_numbering": 1,
   "nav_menu": {},
   "number_sections": true,
   "sideBar": true,
   "skip_h1_title": false,
   "title_cell": "Table of Contents",
   "title_sidebar": "Contents",
   "toc_cell": false,
   "toc_position": {},
   "toc_section_display": true,
   "toc_window_display": false
  },
  "varInspector": {
   "cols": {
    "lenName": 16,
    "lenType": 16,
    "lenVar": 40
   },
   "kernels_config": {
    "python": {
     "delete_cmd_postfix": "",
     "delete_cmd_prefix": "del ",
     "library": "var_list.py",
     "varRefreshCmd": "print(var_dic_list())"
    },
    "r": {
     "delete_cmd_postfix": ") ",
     "delete_cmd_prefix": "rm(",
     "library": "var_list.r",
     "varRefreshCmd": "cat(var_dic_list()) "
    }
   },
   "types_to_exclude": [
    "module",
    "function",
    "builtin_function_or_method",
    "instance",
    "_Feature"
   ],
   "window_display": false
  }
 },
 "nbformat": 4,
 "nbformat_minor": 4
}
