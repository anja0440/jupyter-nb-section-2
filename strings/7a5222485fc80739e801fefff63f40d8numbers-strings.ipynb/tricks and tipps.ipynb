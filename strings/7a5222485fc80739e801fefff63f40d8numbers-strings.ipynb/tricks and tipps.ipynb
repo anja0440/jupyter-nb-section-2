{
 "cells": [
  {
   "cell_type": "code",
   "execution_count": 2,
   "id": "74504ea4-3e90-462b-bd38-1deca2f7ab03",
   "metadata": {},
   "outputs": [
    {
     "name": "stdout",
     "output_type": "stream",
     "text": [
      "C:\\Users\\Anja Wittler\\OneDrive\\Dokumente\\TG\\WBS\\bootcamp\\Sec 2_Python\\strings\\7a5222485fc80739e801fefff63f40d8numbers-strings.ipynb\n"
     ]
    }
   ],
   "source": [
    "import os\n",
    "print(os.getcwd())"
   ]
  },
  {
   "cell_type": "markdown",
   "id": "d46b3de4-b5bb-4ed5-aacf-911f45d21950",
   "metadata": {},
   "source": [
    "Gives folder where the notebook is stored"
   ]
  },
  {
   "cell_type": "markdown",
   "id": "3375c883-7c86-4478-9371-8b0f78be1da5",
   "metadata": {},
   "source": [
    "# add string to list"
   ]
  },
  {
   "cell_type": "code",
   "execution_count": 1,
   "id": "b754cc9e-2244-4a09-a858-ccb5b9fae9c0",
   "metadata": {},
   "outputs": [],
   "source": [
    "listA = [1, 2, 3]\n",
    "listA.extend(\"some string\")"
   ]
  },
  {
   "cell_type": "code",
   "execution_count": 2,
   "id": "581ae700-d9ff-4f93-9aa8-43df1170d267",
   "metadata": {},
   "outputs": [
    {
     "data": {
      "text/plain": [
       "[1, 2, 3, 's', 'o', 'm', 'e', ' ', 's', 't', 'r', 'i', 'n', 'g']"
      ]
     },
     "execution_count": 2,
     "metadata": {},
     "output_type": "execute_result"
    }
   ],
   "source": [
    "listA"
   ]
  },
  {
   "cell_type": "code",
   "execution_count": 3,
   "id": "92bb117f-f77e-4bf3-ad63-2b38d8a877d2",
   "metadata": {},
   "outputs": [
    {
     "data": {
      "text/plain": [
       "\u001b[1;31mSignature:\u001b[0m \u001b[0mlistA\u001b[0m\u001b[1;33m.\u001b[0m\u001b[0mextend\u001b[0m\u001b[1;33m(\u001b[0m\u001b[0miterable\u001b[0m\u001b[1;33m,\u001b[0m \u001b[1;33m/\u001b[0m\u001b[1;33m)\u001b[0m\u001b[1;33m\u001b[0m\u001b[1;33m\u001b[0m\u001b[0m\n",
       "\u001b[1;31mDocstring:\u001b[0m Extend list by appending elements from the iterable.\n",
       "\u001b[1;31mType:\u001b[0m      builtin_function_or_method\n"
      ]
     },
     "metadata": {},
     "output_type": "display_data"
    }
   ],
   "source": [
    "listA.extend?"
   ]
  },
  {
   "cell_type": "code",
   "execution_count": null,
   "id": "d118cd44-ba1b-443e-8929-3509954545f7",
   "metadata": {},
   "outputs": [],
   "source": []
  }
 ],
 "metadata": {
  "kernelspec": {
   "display_name": "Python 3",
   "language": "python",
   "name": "python3"
  },
  "language_info": {
   "codemirror_mode": {
    "name": "ipython",
    "version": 3
   },
   "file_extension": ".py",
   "mimetype": "text/x-python",
   "name": "python",
   "nbconvert_exporter": "python",
   "pygments_lexer": "ipython3",
   "version": "3.8.8"
  }
 },
 "nbformat": 4,
 "nbformat_minor": 5
}
