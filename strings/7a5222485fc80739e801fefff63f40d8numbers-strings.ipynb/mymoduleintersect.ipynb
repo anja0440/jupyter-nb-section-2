{
 "cells": [
  {
   "cell_type": "code",
   "execution_count": 1,
   "id": "a6faa27a-6651-40fe-80fb-6afae5de642a",
   "metadata": {},
   "outputs": [],
   "source": [
    "# Build a function to return the intersection of two sets\n",
    "# Code here:\n",
    "\n",
    "def intersect(small_primes, fibonacci):\n",
    "    my_set = set(())\n",
    "    for prime in small_primes:\n",
    "        if fibonacci.count(prime) != 0:\n",
    "            my_set.add(prime)\n",
    "    print(my_set)"
   ]
  },
  {
   "cell_type": "code",
   "execution_count": null,
   "id": "aa275ddb-071a-40a3-ab3e-1ee4eaba65cd",
   "metadata": {},
   "outputs": [],
   "source": []
  }
 ],
 "metadata": {
  "kernelspec": {
   "display_name": "Python 3",
   "language": "python",
   "name": "python3"
  },
  "language_info": {
   "codemirror_mode": {
    "name": "ipython",
    "version": 3
   },
   "file_extension": ".py",
   "mimetype": "text/x-python",
   "name": "python",
   "nbconvert_exporter": "python",
   "pygments_lexer": "ipython3",
   "version": "3.8.8"
  }
 },
 "nbformat": 4,
 "nbformat_minor": 5
}
