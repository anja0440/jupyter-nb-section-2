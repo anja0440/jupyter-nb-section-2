{
 "cells": [
  {
   "cell_type": "code",
   "execution_count": 2,
   "id": "74504ea4-3e90-462b-bd38-1deca2f7ab03",
   "metadata": {},
   "outputs": [
    {
     "name": "stdout",
     "output_type": "stream",
     "text": [
      "C:\\Users\\Anja Wittler\\OneDrive\\Dokumente\\TG\\WBS\\bootcamp\\Sec 2_Python\\strings\\7a5222485fc80739e801fefff63f40d8numbers-strings.ipynb\n"
     ]
    }
   ],
   "source": [
    "import os\n",
    "print(os.getcwd())"
   ]
  },
  {
   "cell_type": "markdown",
   "id": "d46b3de4-b5bb-4ed5-aacf-911f45d21950",
   "metadata": {},
   "source": [
    "Gives folder where the notebook is stored"
   ]
  },
  {
   "cell_type": "markdown",
   "id": "3375c883-7c86-4478-9371-8b0f78be1da5",
   "metadata": {},
   "source": []
  },
  {
   "cell_type": "code",
   "execution_count": null,
   "id": "b754cc9e-2244-4a09-a858-ccb5b9fae9c0",
   "metadata": {},
   "outputs": [],
   "source": []
  }
 ],
 "metadata": {
  "kernelspec": {
   "display_name": "Python 3",
   "language": "python",
   "name": "python3"
  },
  "language_info": {
   "codemirror_mode": {
    "name": "ipython",
    "version": 3
   },
   "file_extension": ".py",
   "mimetype": "text/x-python",
   "name": "python",
   "nbconvert_exporter": "python",
   "pygments_lexer": "ipython3",
   "version": "3.8.8"
  }
 },
 "nbformat": 4,
 "nbformat_minor": 5
}
