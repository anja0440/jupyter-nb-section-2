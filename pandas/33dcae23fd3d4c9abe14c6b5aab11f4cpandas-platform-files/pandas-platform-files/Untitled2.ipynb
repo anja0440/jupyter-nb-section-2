{
 "cells": [
  {
   "cell_type": "code",
   "execution_count": 2,
   "id": "dc7fbfc4-78ed-4d09-a837-3f5a54ac576c",
   "metadata": {},
   "outputs": [],
   "source": [
    "import pandas as pd"
   ]
  },
  {
   "cell_type": "code",
   "execution_count": 5,
   "id": "56498f0a-116f-4d3f-90cc-35c3af61e8e0",
   "metadata": {},
   "outputs": [],
   "source": [
    "orders = pd.read_csv(r'C:\\Users\\Anja Wittler\\OneDrive\\Dokumente\\TG\\WBS\\bootcamp\\Sec_3_Pandas\\orders.csv')"
   ]
  },
  {
   "cell_type": "code",
   "execution_count": 6,
   "id": "9b6ee203-6666-4d79-921e-42ba3f168c94",
   "metadata": {},
   "outputs": [],
   "source": [
    "orderlines = pd.read_csv(r'C:\\Users\\Anja Wittler\\OneDrive\\Dokumente\\TG\\WBS\\bootcamp\\Sec_3_Pandas\\orderlines.csv')"
   ]
  },
  {
   "cell_type": "code",
   "execution_count": 7,
   "id": "47dbd68e-f69b-4288-99e8-fcdb097c0614",
   "metadata": {},
   "outputs": [],
   "source": [
    "products = pd.read_csv(r'C:\\Users\\Anja Wittler\\OneDrive\\Dokumente\\TG\\WBS\\bootcamp\\Sec_3_Pandas\\products.csv')"
   ]
  },
  {
   "cell_type": "code",
   "execution_count": 8,
   "id": "349db0b0-b19e-46d3-bac8-d150f3946a46",
   "metadata": {},
   "outputs": [],
   "source": [
    "brands = pd.read_csv(r'C:\\Users\\Anja Wittler\\OneDrive\\Dokumente\\TG\\WBS\\bootcamp\\Sec_3_Pandas\\brands.csv')"
   ]
  },
  {
   "cell_type": "code",
   "execution_count": 9,
   "id": "f49bd394-e875-47c5-a710-490f88462f92",
   "metadata": {},
   "outputs": [
    {
     "name": "stdout",
     "output_type": "stream",
     "text": [
      "<class 'pandas.core.frame.DataFrame'>\n",
      "RangeIndex: 226909 entries, 0 to 226908\n",
      "Data columns (total 4 columns):\n",
      " #   Column        Non-Null Count   Dtype  \n",
      "---  ------        --------------   -----  \n",
      " 0   order_id      226909 non-null  int64  \n",
      " 1   created_date  226909 non-null  object \n",
      " 2   total_paid    226904 non-null  float64\n",
      " 3   state         226909 non-null  object \n",
      "dtypes: float64(1), int64(1), object(2)\n",
      "memory usage: 6.9+ MB\n"
     ]
    }
   ],
   "source": [
    "orders.info()"
   ]
  },
  {
   "cell_type": "code",
   "execution_count": 10,
   "id": "c3672657-69b5-4862-878d-349a96f05fc5",
   "metadata": {},
   "outputs": [
    {
     "name": "stdout",
     "output_type": "stream",
     "text": [
      "<class 'pandas.core.frame.DataFrame'>\n",
      "RangeIndex: 293983 entries, 0 to 293982\n",
      "Data columns (total 7 columns):\n",
      " #   Column            Non-Null Count   Dtype \n",
      "---  ------            --------------   ----- \n",
      " 0   id                293983 non-null  int64 \n",
      " 1   id_order          293983 non-null  int64 \n",
      " 2   product_id        293983 non-null  int64 \n",
      " 3   product_quantity  293983 non-null  int64 \n",
      " 4   sku               293983 non-null  object\n",
      " 5   unit_price        293983 non-null  object\n",
      " 6   date              293983 non-null  object\n",
      "dtypes: int64(4), object(3)\n",
      "memory usage: 15.7+ MB\n"
     ]
    }
   ],
   "source": [
    "orderlines.info()"
   ]
  },
  {
   "cell_type": "code",
   "execution_count": 11,
   "id": "0dcc24d1-e6e1-44c0-9874-e49652af96f9",
   "metadata": {},
   "outputs": [
    {
     "name": "stdout",
     "output_type": "stream",
     "text": [
      "<class 'pandas.core.frame.DataFrame'>\n",
      "RangeIndex: 19326 entries, 0 to 19325\n",
      "Data columns (total 7 columns):\n",
      " #   Column       Non-Null Count  Dtype \n",
      "---  ------       --------------  ----- \n",
      " 0   sku          19326 non-null  object\n",
      " 1   name         19326 non-null  object\n",
      " 2   desc         19319 non-null  object\n",
      " 3   price        19280 non-null  object\n",
      " 4   promo_price  19326 non-null  object\n",
      " 5   in_stock     19326 non-null  int64 \n",
      " 6   type         19276 non-null  object\n",
      "dtypes: int64(1), object(6)\n",
      "memory usage: 1.0+ MB\n"
     ]
    }
   ],
   "source": [
    "products.info()"
   ]
  },
  {
   "cell_type": "code",
   "execution_count": 12,
   "id": "bf678886-2cd6-4d8b-acc1-b25f6d662d6f",
   "metadata": {},
   "outputs": [
    {
     "name": "stdout",
     "output_type": "stream",
     "text": [
      "<class 'pandas.core.frame.DataFrame'>\n",
      "RangeIndex: 187 entries, 0 to 186\n",
      "Data columns (total 2 columns):\n",
      " #   Column  Non-Null Count  Dtype \n",
      "---  ------  --------------  ----- \n",
      " 0   short   187 non-null    object\n",
      " 1   long    187 non-null    object\n",
      "dtypes: object(2)\n",
      "memory usage: 3.0+ KB\n"
     ]
    }
   ],
   "source": [
    "brands.info()"
   ]
  },
  {
   "cell_type": "code",
   "execution_count": 17,
   "id": "da1b3b54-c1e4-47c9-81c1-297ee83397f8",
   "metadata": {},
   "outputs": [
    {
     "name": "stdout",
     "output_type": "stream",
     "text": [
      "   order_id         created_date  total_paid      state\n",
      "0    241319  2017-01-02 13:35:40       44.99  Cancelled\n",
      "1    241423  2017-11-06 13:10:02      136.15  Completed\n",
      "2    242832  2017-12-31 17:40:03       15.76  Completed\n",
      "3    243330  2017-02-16 10:59:38       84.98  Completed\n",
      "4    243784  2017-11-24 13:35:19      157.86  Cancelled\n",
      "5    245275  2017-06-28 11:35:37      149.00  Completed\n",
      "6    245595  2017-01-21 12:52:47      112.97  Completed\n",
      "7    245851  2017-04-04 20:58:21       79.99    Pending\n",
      "8    245941  2017-01-01 10:32:23      183.52  Completed\n",
      "9    246018  2017-02-13 23:02:57      211.95  Completed\n"
     ]
    }
   ],
   "source": [
    "print(orders.head(10))"
   ]
  },
  {
   "cell_type": "code",
   "execution_count": 18,
   "id": "428535a5-cc0b-4459-a000-39f3568e824d",
   "metadata": {},
   "outputs": [
    {
     "name": "stdout",
     "output_type": "stream",
     "text": [
      "        id  id_order  product_id  product_quantity      sku unit_price  \\\n",
      "0  1119109    299539           0                 1  OTT0133      18.99   \n",
      "1  1119110    299540           0                 1  LGE0043     399.00   \n",
      "2  1119111    299541           0                 1  PAR0071     474.05   \n",
      "3  1119112    299542           0                 1  WDT0315      68.39   \n",
      "4  1119113    299543           0                 1  JBL0104      23.74   \n",
      "5  1119114    295310           0                10  WDT0249     231.79   \n",
      "6  1119115    299544           0                 1  APP1582   1.137.99   \n",
      "7  1119116    299545           0                 1  OWC0100      47.49   \n",
      "8  1119119    299546           0                 1  IOT0014      18.99   \n",
      "9  1119120    295347           0                 1  APP0700      72.19   \n",
      "\n",
      "                  date  \n",
      "0  2017-01-01 00:07:19  \n",
      "1  2017-01-01 00:19:45  \n",
      "2  2017-01-01 00:20:57  \n",
      "3  2017-01-01 00:51:40  \n",
      "4  2017-01-01 01:06:38  \n",
      "5  2017-01-01 01:14:27  \n",
      "6  2017-01-01 01:17:21  \n",
      "7  2017-01-01 01:46:16  \n",
      "8  2017-01-01 01:50:34  \n",
      "9  2017-01-01 01:54:11  \n"
     ]
    }
   ],
   "source": [
    "print(orderlines.head(10))"
   ]
  },
  {
   "cell_type": "code",
   "execution_count": 19,
   "id": "f22733b3-85c9-4d05-8839-5e34819ea441",
   "metadata": {},
   "outputs": [
    {
     "name": "stdout",
     "output_type": "stream",
     "text": [
      "         sku                                               name  \\\n",
      "0    RAI0007                  Silver Rain Design mStand Support   \n",
      "1    APP0023                  Apple Mac Keyboard Keypad Spanish   \n",
      "2    APP0025                   Mighty Mouse Apple Mouse for Mac   \n",
      "3    APP0072      Apple Dock to USB Cable iPhone and iPod white   \n",
      "4    KIN0007        Mac Memory Kingston 2GB 667MHz DDR2 SO-DIMM   \n",
      "5    APP0073     Apple Composite AV Cable iPhone and iPod white   \n",
      "6    KIN0008        Mac Memory Kingston 1GB 667MHz DDR2 SO-DIMM   \n",
      "7    KIN0009        Mac Memory Kingston 2GB 800MHz DDR2 SO-DIMM   \n",
      "8  KIN0001-2  Mac memory Kingston 4GB (2x2GB) 667MHz DDR2 SO...   \n",
      "9    APP0100             Apple Adapter Mini Display Port to VGA   \n",
      "\n",
      "                                                desc  price promo_price  \\\n",
      "0       Aluminum support compatible with all MacBook  59.99     499.899   \n",
      "1          USB ultrathin keyboard Apple Mac Spanish.     59     589.996   \n",
      "2                             mouse Apple USB cable.     59     569.898   \n",
      "3              IPhone dock and USB Cable Apple iPod.     25     229.997   \n",
      "4  2GB RAM Mac mini and iMac (2006/07) MacBook Pr...  34.99       31.99   \n",
      "5  IPhone and iPod AV Cable Dock to Composite Video.     45     420.003   \n",
      "6  1GB RAM Mac mini and iMac (2006/07) MacBook Pr...  18.99     146.471   \n",
      "7       2GB RAM iMac with Intel Core 2 Duo (Penryn).  36.99     274.694   \n",
      "8  RAM 4GB (2x2GB) Mac mini and iMac (2006/07) Ma...     74     669.904   \n",
      "9  Adapter Mini Display Port to VGA MacBook and M...     35     330.003   \n",
      "\n",
      "   in_stock      type  \n",
      "0         1      8696  \n",
      "1         0  13855401  \n",
      "2         0      1387  \n",
      "3         0      1230  \n",
      "4         1      1364  \n",
      "5         0      1230  \n",
      "6         0      1364  \n",
      "7         0      1364  \n",
      "8         0      1364  \n",
      "9         0      1325  \n"
     ]
    }
   ],
   "source": [
    "print(products.head(10))"
   ]
  },
  {
   "cell_type": "code",
   "execution_count": 20,
   "id": "93bba006-aebb-41f7-859e-066978f52679",
   "metadata": {},
   "outputs": [
    {
     "name": "stdout",
     "output_type": "stream",
     "text": [
      "  short        long\n",
      "0   8MO   8Mobility\n",
      "1   ACM        Acme\n",
      "2   ADN      Adonit\n",
      "3   AII       Aiino\n",
      "4   AKI      Akitio\n",
      "5   ALL   Allocacoc\n",
      "6   AP2       Apple\n",
      "7   APP       Apple\n",
      "8   BAN  Band&Strap\n",
      "9   BEA       Beats\n"
     ]
    }
   ],
   "source": [
    "print(brands.head(10))"
   ]
  },
  {
   "cell_type": "code",
   "execution_count": 21,
   "id": "9c742a8e-9f0c-48a3-b288-6363cb0064a7",
   "metadata": {},
   "outputs": [
    {
     "name": "stdout",
     "output_type": "stream",
     "text": [
      "        order_id         created_date  total_paid            state\n",
      "226904    527397  2018-03-14 13:56:38       42.99      Place Order\n",
      "226905    527398  2018-03-14 13:57:25       42.99  Shopping Basket\n",
      "226906    527399  2018-03-14 13:57:34      141.58  Shopping Basket\n",
      "226907    527400  2018-03-14 13:57:41       19.98  Shopping Basket\n",
      "226908    527401  2018-03-14 13:58:36       18.98      Place Order\n"
     ]
    }
   ],
   "source": [
    "print(orders.tail(5))"
   ]
  },
  {
   "cell_type": "code",
   "execution_count": 23,
   "id": "bfc74fe0-ebb9-497f-a1e8-7051a0d1503f",
   "metadata": {},
   "outputs": [
    {
     "name": "stdout",
     "output_type": "stream",
     "text": [
      "             id  id_order  product_id  product_quantity      sku unit_price  \\\n",
      "293978  1650199    527398           0                 1  JBL0122      42.99   \n",
      "293979  1650200    527399           0                 1  PAC0653     141.58   \n",
      "293980  1650201    527400           0                 2  APP0698       9.99   \n",
      "293981  1650202    527388           0                 1  BEZ0204      19.99   \n",
      "293982  1650203    527401           0                 1  APP0927      13.99   \n",
      "\n",
      "                       date  \n",
      "293978  2018-03-14 13:57:25  \n",
      "293979  2018-03-14 13:57:34  \n",
      "293980  2018-03-14 13:57:41  \n",
      "293981  2018-03-14 13:58:01  \n",
      "293982  2018-03-14 13:58:36  \n"
     ]
    }
   ],
   "source": [
    "print(orderlines.tail(5))"
   ]
  },
  {
   "cell_type": "code",
   "execution_count": 24,
   "id": "a55db287-684f-4a52-9806-aaf84c33b119",
   "metadata": {},
   "outputs": [
    {
     "name": "stdout",
     "output_type": "stream",
     "text": [
      "           sku                                          name  \\\n",
      "19321  BEL0376       Belkin Travel Support Apple Watch Black   \n",
      "19322  THU0060  Enroute Thule 14L Backpack MacBook 13 \"Black   \n",
      "19323  THU0061   Enroute Thule 14L Backpack MacBook 13 \"Blue   \n",
      "19324  THU0062    Enroute Thule 14L Backpack MacBook 13 \"Red   \n",
      "19325  THU0063  Enroute Thule 14L Backpack MacBook 13 \"Green   \n",
      "\n",
      "                                                    desc  price promo_price  \\\n",
      "19321  compact and portable stand vertically or horiz...  29.99     269.903   \n",
      "19322  Backpack with capacity of 14 liter compartment...  69.95     649.903   \n",
      "19323  Backpack with capacity of 14 liter compartment...  69.95     649.903   \n",
      "19324  Backpack with capacity of 14 liter compartment...  69.95     649.903   \n",
      "19325  Backpack with capacity of 14 liter compartment...  69.95     649.903   \n",
      "\n",
      "       in_stock   type  \n",
      "19321         1  12282  \n",
      "19322         1   1392  \n",
      "19323         1   1392  \n",
      "19324         0   1392  \n",
      "19325         1   1392  \n"
     ]
    }
   ],
   "source": [
    "print(products.tail(5))"
   ]
  },
  {
   "cell_type": "code",
   "execution_count": 25,
   "id": "9d29416b-6abf-48ef-8f40-b444b894e06a",
   "metadata": {},
   "outputs": [
    {
     "name": "stdout",
     "output_type": "stream",
     "text": [
      "    short      long\n",
      "182   XOO    Xoopar\n",
      "183   XRI    X-Rite\n",
      "184   XTO     Xtorm\n",
      "185   ZAG  ZaggKeys\n",
      "186   ZEP      Zepp\n"
     ]
    }
   ],
   "source": [
    "print(brands.tail(5))"
   ]
  },
  {
   "cell_type": "code",
   "execution_count": 26,
   "id": "a7dc9ef2-f286-4a1b-bbe5-ad57f2f9bd71",
   "metadata": {},
   "outputs": [
    {
     "name": "stdout",
     "output_type": "stream",
     "text": [
      "order_id        0\n",
      "created_date    0\n",
      "total_paid      5\n",
      "state           0\n",
      "dtype: int64\n"
     ]
    }
   ],
   "source": [
    "print(orders.isna().sum())"
   ]
  },
  {
   "cell_type": "code",
   "execution_count": 27,
   "id": "0061eb53-2693-47bb-a363-078b98245ab9",
   "metadata": {},
   "outputs": [
    {
     "name": "stdout",
     "output_type": "stream",
     "text": [
      "id                  0\n",
      "id_order            0\n",
      "product_id          0\n",
      "product_quantity    0\n",
      "sku                 0\n",
      "unit_price          0\n",
      "date                0\n",
      "dtype: int64\n"
     ]
    }
   ],
   "source": [
    "print(orderlines.isna().sum())"
   ]
  },
  {
   "cell_type": "code",
   "execution_count": 29,
   "id": "6ddb8aac-6153-4a9b-abc4-570a07ee4940",
   "metadata": {},
   "outputs": [
    {
     "name": "stdout",
     "output_type": "stream",
     "text": [
      "sku             0\n",
      "name            0\n",
      "desc            7\n",
      "price          46\n",
      "promo_price     0\n",
      "in_stock        0\n",
      "type           50\n",
      "dtype: int64\n"
     ]
    }
   ],
   "source": [
    "print(products.isna().sum())"
   ]
  },
  {
   "cell_type": "code",
   "execution_count": 31,
   "id": "64be6821-c697-495a-ba87-a078707c81cb",
   "metadata": {},
   "outputs": [
    {
     "name": "stdout",
     "output_type": "stream",
     "text": [
      "short    0\n",
      "long     0\n",
      "dtype: int64\n"
     ]
    }
   ],
   "source": [
    "print(brands.isna().sum())"
   ]
  },
  {
   "cell_type": "code",
   "execution_count": 33,
   "id": "dfe51df0-7fdf-4700-9ef4-a2ff6ef835c5",
   "metadata": {},
   "outputs": [
    {
     "data": {
      "text/plain": [
       "count    226904.000000\n",
       "mean        569.225818\n",
       "std        1761.778002\n",
       "min           0.000000\n",
       "25%          34.190000\n",
       "50%         112.990000\n",
       "75%         525.980000\n",
       "max      214747.530000\n",
       "Name: total_paid, dtype: float64"
      ]
     },
     "execution_count": 33,
     "metadata": {},
     "output_type": "execute_result"
    }
   ],
   "source": [
    "orders.total_paid.describe()"
   ]
  },
  {
   "cell_type": "code",
   "execution_count": 48,
   "id": "cfe9db86-b01a-4d5b-9e2d-96dec11a80ca",
   "metadata": {},
   "outputs": [
    {
     "data": {
      "text/plain": [
       "(293983, 7)"
      ]
     },
     "execution_count": 48,
     "metadata": {},
     "output_type": "execute_result"
    }
   ],
   "source": [
    "orderlines.shape"
   ]
  },
  {
   "cell_type": "code",
   "execution_count": 35,
   "id": "039853ae-3d68-49fd-bf94-d05bee9b078e",
   "metadata": {},
   "outputs": [
    {
     "data": {
      "text/plain": [
       "Index(['order_id', 'created_date', 'total_paid', 'state'], dtype='object')"
      ]
     },
     "execution_count": 35,
     "metadata": {},
     "output_type": "execute_result"
    }
   ],
   "source": [
    "orders.columns"
   ]
  },
  {
   "cell_type": "code",
   "execution_count": 49,
   "id": "f94acf07-bf20-4657-b1c4-155c0c4666e9",
   "metadata": {},
   "outputs": [
    {
     "data": {
      "text/plain": [
       "(226909, 4)"
      ]
     },
     "execution_count": 49,
     "metadata": {},
     "output_type": "execute_result"
    }
   ],
   "source": [
    "orders.shape"
   ]
  },
  {
   "cell_type": "code",
   "execution_count": 51,
   "id": "7cf5a2fc-a814-475f-9892-fde43d418dad",
   "metadata": {},
   "outputs": [
    {
     "name": "stdout",
     "output_type": "stream",
     "text": [
      "The number of rows is 226909\n",
      "The number of columns is  4\n"
     ]
    }
   ],
   "source": [
    "nrows = orders.shape[0]\n",
    "ncols = orders.shape[1]\n",
    "print(\"The number of rows is\", nrows)\n",
    "print(\"The number of columns is \", ncols)"
   ]
  },
  {
   "cell_type": "code",
   "execution_count": 52,
   "id": "8b66011e-cc14-46e8-9e51-21523707fd2c",
   "metadata": {},
   "outputs": [
    {
     "data": {
      "text/plain": [
       "907636"
      ]
     },
     "execution_count": 52,
     "metadata": {},
     "output_type": "execute_result"
    }
   ],
   "source": [
    "orders.size"
   ]
  },
  {
   "cell_type": "code",
   "execution_count": 53,
   "id": "c9e6f1fe-4e01-4dd7-803b-e7fced566a2b",
   "metadata": {},
   "outputs": [
    {
     "data": {
      "text/plain": [
       "907636"
      ]
     },
     "execution_count": 53,
     "metadata": {},
     "output_type": "execute_result"
    }
   ],
   "source": [
    "orders.shape[0] * orders.shape[1]"
   ]
  },
  {
   "cell_type": "code",
   "execution_count": 54,
   "id": "fea1505a-7c7a-4547-a1a1-e14f8f41a4dd",
   "metadata": {},
   "outputs": [
    {
     "data": {
      "text/plain": [
       "2"
      ]
     },
     "execution_count": 54,
     "metadata": {},
     "output_type": "execute_result"
    }
   ],
   "source": [
    "orders.ndim"
   ]
  },
  {
   "cell_type": "code",
   "execution_count": 55,
   "id": "7577ba3d-da19-4c64-b8d5-d7e74dd6b096",
   "metadata": {},
   "outputs": [
    {
     "data": {
      "text/plain": [
       "order_id        226909\n",
       "created_date    224828\n",
       "total_paid       31236\n",
       "state                5\n",
       "dtype: int64"
      ]
     },
     "execution_count": 55,
     "metadata": {},
     "output_type": "execute_result"
    }
   ],
   "source": [
    "orders.nunique()"
   ]
  },
  {
   "cell_type": "code",
   "execution_count": 37,
   "id": "217f117b-fba4-4918-811a-739ace515e60",
   "metadata": {},
   "outputs": [
    {
     "data": {
      "text/plain": [
       "Shopping Basket    117809\n",
       "Completed           46605\n",
       "Place Order         40883\n",
       "Pending             14379\n",
       "Cancelled            7233\n",
       "Name: state, dtype: int64"
      ]
     },
     "execution_count": 37,
     "metadata": {},
     "output_type": "execute_result"
    }
   ],
   "source": [
    "orders.state.value_counts()"
   ]
  },
  {
   "cell_type": "code",
   "execution_count": 38,
   "id": "76bc7c5a-55f8-4a2f-8dc2-1673773902b8",
   "metadata": {},
   "outputs": [
    {
     "data": {
      "text/plain": [
       "Index(['sku', 'name', 'desc', 'price', 'promo_price', 'in_stock', 'type'], dtype='object')"
      ]
     },
     "execution_count": 38,
     "metadata": {},
     "output_type": "execute_result"
    }
   ],
   "source": [
    "products.columns"
   ]
  },
  {
   "cell_type": "code",
   "execution_count": 58,
   "id": "d3397ec7-c726-4d06-99d3-88ce9cbb496c",
   "metadata": {},
   "outputs": [
    {
     "data": {
      "text/html": [
       "<div>\n",
       "<style scoped>\n",
       "    .dataframe tbody tr th:only-of-type {\n",
       "        vertical-align: middle;\n",
       "    }\n",
       "\n",
       "    .dataframe tbody tr th {\n",
       "        vertical-align: top;\n",
       "    }\n",
       "\n",
       "    .dataframe thead th {\n",
       "        text-align: right;\n",
       "    }\n",
       "</style>\n",
       "<table border=\"1\" class=\"dataframe\">\n",
       "  <thead>\n",
       "    <tr style=\"text-align: right;\">\n",
       "      <th></th>\n",
       "      <th>in_stock</th>\n",
       "    </tr>\n",
       "  </thead>\n",
       "  <tbody>\n",
       "    <tr>\n",
       "      <th>count</th>\n",
       "      <td>19326.000000</td>\n",
       "    </tr>\n",
       "    <tr>\n",
       "      <th>mean</th>\n",
       "      <td>0.109593</td>\n",
       "    </tr>\n",
       "    <tr>\n",
       "      <th>std</th>\n",
       "      <td>0.312390</td>\n",
       "    </tr>\n",
       "    <tr>\n",
       "      <th>min</th>\n",
       "      <td>0.000000</td>\n",
       "    </tr>\n",
       "    <tr>\n",
       "      <th>25%</th>\n",
       "      <td>0.000000</td>\n",
       "    </tr>\n",
       "    <tr>\n",
       "      <th>50%</th>\n",
       "      <td>0.000000</td>\n",
       "    </tr>\n",
       "    <tr>\n",
       "      <th>75%</th>\n",
       "      <td>0.000000</td>\n",
       "    </tr>\n",
       "    <tr>\n",
       "      <th>max</th>\n",
       "      <td>1.000000</td>\n",
       "    </tr>\n",
       "  </tbody>\n",
       "</table>\n",
       "</div>"
      ],
      "text/plain": [
       "           in_stock\n",
       "count  19326.000000\n",
       "mean       0.109593\n",
       "std        0.312390\n",
       "min        0.000000\n",
       "25%        0.000000\n",
       "50%        0.000000\n",
       "75%        0.000000\n",
       "max        1.000000"
      ]
     },
     "execution_count": 58,
     "metadata": {},
     "output_type": "execute_result"
    }
   ],
   "source": [
    "products.describe()"
   ]
  },
  {
   "cell_type": "code",
   "execution_count": 39,
   "id": "cc370716-93d9-465a-a6b3-467344abb745",
   "metadata": {},
   "outputs": [
    {
     "data": {
      "text/plain": [
       "PAC1034    58\n",
       "PAC1035    58\n",
       "PAC1036    58\n",
       "PAC1032    58\n",
       "PAC1033    58\n",
       "           ..\n",
       "MIC0035     1\n",
       "APP2166     1\n",
       "SAN0177     1\n",
       "BNQ0049     1\n",
       "TRA0015     1\n",
       "Name: sku, Length: 10579, dtype: int64"
      ]
     },
     "execution_count": 39,
     "metadata": {},
     "output_type": "execute_result"
    }
   ],
   "source": [
    "products.sku.value_counts()"
   ]
  },
  {
   "cell_type": "code",
   "execution_count": 40,
   "id": "1b871bc3-0e72-404d-aaca-698773cfd38b",
   "metadata": {},
   "outputs": [
    {
     "data": {
      "text/plain": [
       "Index(['id', 'id_order', 'product_id', 'product_quantity', 'sku', 'unit_price',\n",
       "       'date'],\n",
       "      dtype='object')"
      ]
     },
     "execution_count": 40,
     "metadata": {},
     "output_type": "execute_result"
    }
   ],
   "source": [
    "orderlines.columns"
   ]
  },
  {
   "cell_type": "code",
   "execution_count": 59,
   "id": "88ad3a17-577a-4d28-a46b-df4a5d962002",
   "metadata": {},
   "outputs": [
    {
     "data": {
      "text/plain": [
       "'-119.00'"
      ]
     },
     "execution_count": 59,
     "metadata": {},
     "output_type": "execute_result"
    }
   ],
   "source": [
    "orderlines.unit_price.min()"
   ]
  },
  {
   "cell_type": "code",
   "execution_count": 62,
   "id": "3c506a16-6a5b-44a7-adfb-ab8a80b5ad2c",
   "metadata": {},
   "outputs": [
    {
     "data": {
      "text/html": [
       "<div>\n",
       "<style scoped>\n",
       "    .dataframe tbody tr th:only-of-type {\n",
       "        vertical-align: middle;\n",
       "    }\n",
       "\n",
       "    .dataframe tbody tr th {\n",
       "        vertical-align: top;\n",
       "    }\n",
       "\n",
       "    .dataframe thead th {\n",
       "        text-align: right;\n",
       "    }\n",
       "</style>\n",
       "<table border=\"1\" class=\"dataframe\">\n",
       "  <thead>\n",
       "    <tr style=\"text-align: right;\">\n",
       "      <th></th>\n",
       "      <th>id</th>\n",
       "      <th>id_order</th>\n",
       "      <th>product_id</th>\n",
       "      <th>product_quantity</th>\n",
       "      <th>sku</th>\n",
       "      <th>unit_price</th>\n",
       "      <th>date</th>\n",
       "    </tr>\n",
       "  </thead>\n",
       "  <tbody>\n",
       "    <tr>\n",
       "      <th>77008</th>\n",
       "      <td>1268645</td>\n",
       "      <td>365886</td>\n",
       "      <td>0</td>\n",
       "      <td>1</td>\n",
       "      <td>APP1465</td>\n",
       "      <td>-119.00</td>\n",
       "      <td>2017-06-15 12:48:54</td>\n",
       "    </tr>\n",
       "  </tbody>\n",
       "</table>\n",
       "</div>"
      ],
      "text/plain": [
       "            id  id_order  product_id  product_quantity      sku unit_price  \\\n",
       "77008  1268645    365886           0                 1  APP1465    -119.00   \n",
       "\n",
       "                      date  \n",
       "77008  2017-06-15 12:48:54  "
      ]
     },
     "execution_count": 62,
     "metadata": {},
     "output_type": "execute_result"
    }
   ],
   "source": [
    "orderlines[orderlines.unit_price == '-119.00']"
   ]
  },
  {
   "cell_type": "code",
   "execution_count": 63,
   "id": "e6f39a3b-e939-417e-bfb0-42009a377357",
   "metadata": {},
   "outputs": [
    {
     "data": {
      "text/html": [
       "<div>\n",
       "<style scoped>\n",
       "    .dataframe tbody tr th:only-of-type {\n",
       "        vertical-align: middle;\n",
       "    }\n",
       "\n",
       "    .dataframe tbody tr th {\n",
       "        vertical-align: top;\n",
       "    }\n",
       "\n",
       "    .dataframe thead th {\n",
       "        text-align: right;\n",
       "    }\n",
       "</style>\n",
       "<table border=\"1\" class=\"dataframe\">\n",
       "  <thead>\n",
       "    <tr style=\"text-align: right;\">\n",
       "      <th></th>\n",
       "      <th>sku</th>\n",
       "      <th>name</th>\n",
       "      <th>desc</th>\n",
       "      <th>price</th>\n",
       "      <th>promo_price</th>\n",
       "      <th>in_stock</th>\n",
       "      <th>type</th>\n",
       "    </tr>\n",
       "  </thead>\n",
       "  <tbody>\n",
       "    <tr>\n",
       "      <th>11764</th>\n",
       "      <td>APP1465</td>\n",
       "      <td>Spanish Keyboard Keyboard Magic Apple Mac (OEM)</td>\n",
       "      <td>Spanish Keyboard Mac and Apple iPad Ultrathin ...</td>\n",
       "      <td>119</td>\n",
       "      <td>999.944</td>\n",
       "      <td>1</td>\n",
       "      <td>13855401</td>\n",
       "    </tr>\n",
       "  </tbody>\n",
       "</table>\n",
       "</div>"
      ],
      "text/plain": [
       "           sku                                             name  \\\n",
       "11764  APP1465  Spanish Keyboard Keyboard Magic Apple Mac (OEM)   \n",
       "\n",
       "                                                    desc price promo_price  \\\n",
       "11764  Spanish Keyboard Mac and Apple iPad Ultrathin ...   119     999.944   \n",
       "\n",
       "       in_stock      type  \n",
       "11764         1  13855401  "
      ]
     },
     "execution_count": 63,
     "metadata": {},
     "output_type": "execute_result"
    }
   ],
   "source": [
    "products[products.sku == 'APP1465']"
   ]
  },
  {
   "cell_type": "code",
   "execution_count": 64,
   "id": "14a3a420-71a3-4055-9eb7-3d2c61fc9fbd",
   "metadata": {},
   "outputs": [
    {
     "data": {
      "text/html": [
       "<div>\n",
       "<style scoped>\n",
       "    .dataframe tbody tr th:only-of-type {\n",
       "        vertical-align: middle;\n",
       "    }\n",
       "\n",
       "    .dataframe tbody tr th {\n",
       "        vertical-align: top;\n",
       "    }\n",
       "\n",
       "    .dataframe thead th {\n",
       "        text-align: right;\n",
       "    }\n",
       "</style>\n",
       "<table border=\"1\" class=\"dataframe\">\n",
       "  <thead>\n",
       "    <tr style=\"text-align: right;\">\n",
       "      <th></th>\n",
       "      <th>id</th>\n",
       "      <th>id_order</th>\n",
       "      <th>product_id</th>\n",
       "      <th>product_quantity</th>\n",
       "      <th>sku</th>\n",
       "      <th>unit_price</th>\n",
       "      <th>date</th>\n",
       "    </tr>\n",
       "  </thead>\n",
       "  <tbody>\n",
       "    <tr>\n",
       "      <th>6</th>\n",
       "      <td>1119115</td>\n",
       "      <td>299544</td>\n",
       "      <td>0</td>\n",
       "      <td>1</td>\n",
       "      <td>APP1582</td>\n",
       "      <td>1.137.99</td>\n",
       "      <td>2017-01-01 01:17:21</td>\n",
       "    </tr>\n",
       "    <tr>\n",
       "      <th>2775</th>\n",
       "      <td>1126354</td>\n",
       "      <td>302050</td>\n",
       "      <td>0</td>\n",
       "      <td>1</td>\n",
       "      <td>APP1582</td>\n",
       "      <td>1.137.99</td>\n",
       "      <td>2017-01-03 21:43:12</td>\n",
       "    </tr>\n",
       "    <tr>\n",
       "      <th>3329</th>\n",
       "      <td>1130117</td>\n",
       "      <td>302584</td>\n",
       "      <td>0</td>\n",
       "      <td>1</td>\n",
       "      <td>APP1582</td>\n",
       "      <td>1.137.99</td>\n",
       "      <td>2017-01-04 16:44:55</td>\n",
       "    </tr>\n",
       "    <tr>\n",
       "      <th>3467</th>\n",
       "      <td>1130359</td>\n",
       "      <td>302718</td>\n",
       "      <td>0</td>\n",
       "      <td>1</td>\n",
       "      <td>APP1582</td>\n",
       "      <td>1.137.99</td>\n",
       "      <td>2017-01-04 19:59:34</td>\n",
       "    </tr>\n",
       "    <tr>\n",
       "      <th>3914</th>\n",
       "      <td>1131217</td>\n",
       "      <td>303156</td>\n",
       "      <td>0</td>\n",
       "      <td>1</td>\n",
       "      <td>APP1582</td>\n",
       "      <td>1.137.99</td>\n",
       "      <td>2017-01-05 13:06:31</td>\n",
       "    </tr>\n",
       "    <tr>\n",
       "      <th>5705</th>\n",
       "      <td>1135144</td>\n",
       "      <td>304832</td>\n",
       "      <td>0</td>\n",
       "      <td>1</td>\n",
       "      <td>APP1582</td>\n",
       "      <td>1.137.99</td>\n",
       "      <td>2017-01-08 16:26:20</td>\n",
       "    </tr>\n",
       "    <tr>\n",
       "      <th>5714</th>\n",
       "      <td>1135158</td>\n",
       "      <td>304838</td>\n",
       "      <td>0</td>\n",
       "      <td>1</td>\n",
       "      <td>APP1582</td>\n",
       "      <td>1.137.99</td>\n",
       "      <td>2017-01-08 16:40:58</td>\n",
       "    </tr>\n",
       "    <tr>\n",
       "      <th>6642</th>\n",
       "      <td>1137048</td>\n",
       "      <td>305669</td>\n",
       "      <td>0</td>\n",
       "      <td>1</td>\n",
       "      <td>APP1582</td>\n",
       "      <td>1.137.99</td>\n",
       "      <td>2017-01-09 12:58:48</td>\n",
       "    </tr>\n",
       "    <tr>\n",
       "      <th>9466</th>\n",
       "      <td>1143173</td>\n",
       "      <td>308183</td>\n",
       "      <td>0</td>\n",
       "      <td>1</td>\n",
       "      <td>APP1582</td>\n",
       "      <td>1.137.99</td>\n",
       "      <td>2017-01-12 19:35:03</td>\n",
       "    </tr>\n",
       "    <tr>\n",
       "      <th>9648</th>\n",
       "      <td>1143543</td>\n",
       "      <td>308343</td>\n",
       "      <td>0</td>\n",
       "      <td>1</td>\n",
       "      <td>APP1582</td>\n",
       "      <td>1.137.99</td>\n",
       "      <td>2017-01-13 00:39:46</td>\n",
       "    </tr>\n",
       "    <tr>\n",
       "      <th>17587</th>\n",
       "      <td>1159790</td>\n",
       "      <td>315031</td>\n",
       "      <td>0</td>\n",
       "      <td>1</td>\n",
       "      <td>APP1582</td>\n",
       "      <td>1.137.99</td>\n",
       "      <td>2017-01-26 09:53:51</td>\n",
       "    </tr>\n",
       "    <tr>\n",
       "      <th>25136</th>\n",
       "      <td>1174992</td>\n",
       "      <td>321648</td>\n",
       "      <td>0</td>\n",
       "      <td>1</td>\n",
       "      <td>APP1582</td>\n",
       "      <td>1.137.99</td>\n",
       "      <td>2017-02-09 08:59:18</td>\n",
       "    </tr>\n",
       "    <tr>\n",
       "      <th>25424</th>\n",
       "      <td>1175535</td>\n",
       "      <td>321892</td>\n",
       "      <td>0</td>\n",
       "      <td>1</td>\n",
       "      <td>APP1582</td>\n",
       "      <td>1.137.99</td>\n",
       "      <td>2017-02-09 15:39:27</td>\n",
       "    </tr>\n",
       "    <tr>\n",
       "      <th>26411</th>\n",
       "      <td>1177474</td>\n",
       "      <td>322785</td>\n",
       "      <td>0</td>\n",
       "      <td>1</td>\n",
       "      <td>APP1582</td>\n",
       "      <td>1.137.99</td>\n",
       "      <td>2017-02-12 07:34:30</td>\n",
       "    </tr>\n",
       "    <tr>\n",
       "      <th>27158</th>\n",
       "      <td>1178778</td>\n",
       "      <td>323434</td>\n",
       "      <td>0</td>\n",
       "      <td>1</td>\n",
       "      <td>APP1582</td>\n",
       "      <td>1.137.99</td>\n",
       "      <td>2017-02-13 11:09:10</td>\n",
       "    </tr>\n",
       "    <tr>\n",
       "      <th>27196</th>\n",
       "      <td>1178848</td>\n",
       "      <td>323466</td>\n",
       "      <td>0</td>\n",
       "      <td>1</td>\n",
       "      <td>APP1582</td>\n",
       "      <td>1.137.99</td>\n",
       "      <td>2017-02-13 11:42:18</td>\n",
       "    </tr>\n",
       "    <tr>\n",
       "      <th>27432</th>\n",
       "      <td>1179359</td>\n",
       "      <td>323668</td>\n",
       "      <td>0</td>\n",
       "      <td>1</td>\n",
       "      <td>APP1582</td>\n",
       "      <td>1.137.99</td>\n",
       "      <td>2017-02-13 17:23:57</td>\n",
       "    </tr>\n",
       "    <tr>\n",
       "      <th>30622</th>\n",
       "      <td>1185398</td>\n",
       "      <td>326288</td>\n",
       "      <td>0</td>\n",
       "      <td>1</td>\n",
       "      <td>APP1582</td>\n",
       "      <td>1.137.99</td>\n",
       "      <td>2017-02-19 17:37:55</td>\n",
       "    </tr>\n",
       "    <tr>\n",
       "      <th>31518</th>\n",
       "      <td>1187081</td>\n",
       "      <td>327079</td>\n",
       "      <td>0</td>\n",
       "      <td>1</td>\n",
       "      <td>APP1582</td>\n",
       "      <td>1.137.99</td>\n",
       "      <td>2017-02-21 11:50:41</td>\n",
       "    </tr>\n",
       "    <tr>\n",
       "      <th>31528</th>\n",
       "      <td>1187102</td>\n",
       "      <td>327089</td>\n",
       "      <td>0</td>\n",
       "      <td>1</td>\n",
       "      <td>APP1582</td>\n",
       "      <td>1.137.99</td>\n",
       "      <td>2017-02-21 11:57:31</td>\n",
       "    </tr>\n",
       "    <tr>\n",
       "      <th>32332</th>\n",
       "      <td>1188627</td>\n",
       "      <td>327772</td>\n",
       "      <td>0</td>\n",
       "      <td>1</td>\n",
       "      <td>APP1582</td>\n",
       "      <td>1.137.99</td>\n",
       "      <td>2017-02-22 19:54:46</td>\n",
       "    </tr>\n",
       "    <tr>\n",
       "      <th>32333</th>\n",
       "      <td>1188628</td>\n",
       "      <td>327773</td>\n",
       "      <td>0</td>\n",
       "      <td>1</td>\n",
       "      <td>APP1582</td>\n",
       "      <td>1.137.99</td>\n",
       "      <td>2017-02-22 19:55:02</td>\n",
       "    </tr>\n",
       "    <tr>\n",
       "      <th>32334</th>\n",
       "      <td>1188629</td>\n",
       "      <td>327774</td>\n",
       "      <td>0</td>\n",
       "      <td>1</td>\n",
       "      <td>APP1582</td>\n",
       "      <td>1.137.99</td>\n",
       "      <td>2017-02-22 19:55:19</td>\n",
       "    </tr>\n",
       "    <tr>\n",
       "      <th>33692</th>\n",
       "      <td>1191285</td>\n",
       "      <td>328993</td>\n",
       "      <td>0</td>\n",
       "      <td>1</td>\n",
       "      <td>APP1582</td>\n",
       "      <td>1.137.99</td>\n",
       "      <td>2017-02-25 21:07:41</td>\n",
       "    </tr>\n",
       "    <tr>\n",
       "      <th>33914</th>\n",
       "      <td>1191655</td>\n",
       "      <td>329190</td>\n",
       "      <td>0</td>\n",
       "      <td>1</td>\n",
       "      <td>APP1582</td>\n",
       "      <td>1.137.99</td>\n",
       "      <td>2017-02-26 17:18:04</td>\n",
       "    </tr>\n",
       "  </tbody>\n",
       "</table>\n",
       "</div>"
      ],
      "text/plain": [
       "            id  id_order  product_id  product_quantity      sku unit_price  \\\n",
       "6      1119115    299544           0                 1  APP1582   1.137.99   \n",
       "2775   1126354    302050           0                 1  APP1582   1.137.99   \n",
       "3329   1130117    302584           0                 1  APP1582   1.137.99   \n",
       "3467   1130359    302718           0                 1  APP1582   1.137.99   \n",
       "3914   1131217    303156           0                 1  APP1582   1.137.99   \n",
       "5705   1135144    304832           0                 1  APP1582   1.137.99   \n",
       "5714   1135158    304838           0                 1  APP1582   1.137.99   \n",
       "6642   1137048    305669           0                 1  APP1582   1.137.99   \n",
       "9466   1143173    308183           0                 1  APP1582   1.137.99   \n",
       "9648   1143543    308343           0                 1  APP1582   1.137.99   \n",
       "17587  1159790    315031           0                 1  APP1582   1.137.99   \n",
       "25136  1174992    321648           0                 1  APP1582   1.137.99   \n",
       "25424  1175535    321892           0                 1  APP1582   1.137.99   \n",
       "26411  1177474    322785           0                 1  APP1582   1.137.99   \n",
       "27158  1178778    323434           0                 1  APP1582   1.137.99   \n",
       "27196  1178848    323466           0                 1  APP1582   1.137.99   \n",
       "27432  1179359    323668           0                 1  APP1582   1.137.99   \n",
       "30622  1185398    326288           0                 1  APP1582   1.137.99   \n",
       "31518  1187081    327079           0                 1  APP1582   1.137.99   \n",
       "31528  1187102    327089           0                 1  APP1582   1.137.99   \n",
       "32332  1188627    327772           0                 1  APP1582   1.137.99   \n",
       "32333  1188628    327773           0                 1  APP1582   1.137.99   \n",
       "32334  1188629    327774           0                 1  APP1582   1.137.99   \n",
       "33692  1191285    328993           0                 1  APP1582   1.137.99   \n",
       "33914  1191655    329190           0                 1  APP1582   1.137.99   \n",
       "\n",
       "                      date  \n",
       "6      2017-01-01 01:17:21  \n",
       "2775   2017-01-03 21:43:12  \n",
       "3329   2017-01-04 16:44:55  \n",
       "3467   2017-01-04 19:59:34  \n",
       "3914   2017-01-05 13:06:31  \n",
       "5705   2017-01-08 16:26:20  \n",
       "5714   2017-01-08 16:40:58  \n",
       "6642   2017-01-09 12:58:48  \n",
       "9466   2017-01-12 19:35:03  \n",
       "9648   2017-01-13 00:39:46  \n",
       "17587  2017-01-26 09:53:51  \n",
       "25136  2017-02-09 08:59:18  \n",
       "25424  2017-02-09 15:39:27  \n",
       "26411  2017-02-12 07:34:30  \n",
       "27158  2017-02-13 11:09:10  \n",
       "27196  2017-02-13 11:42:18  \n",
       "27432  2017-02-13 17:23:57  \n",
       "30622  2017-02-19 17:37:55  \n",
       "31518  2017-02-21 11:50:41  \n",
       "31528  2017-02-21 11:57:31  \n",
       "32332  2017-02-22 19:54:46  \n",
       "32333  2017-02-22 19:55:02  \n",
       "32334  2017-02-22 19:55:19  \n",
       "33692  2017-02-25 21:07:41  \n",
       "33914  2017-02-26 17:18:04  "
      ]
     },
     "execution_count": 64,
     "metadata": {},
     "output_type": "execute_result"
    }
   ],
   "source": [
    "orderlines[orderlines.unit_price == '1.137.99']"
   ]
  },
  {
   "cell_type": "code",
   "execution_count": 65,
   "id": "c129480e-8411-44b4-a7e4-abc7dd8e44b8",
   "metadata": {},
   "outputs": [
    {
     "data": {
      "text/html": [
       "<div>\n",
       "<style scoped>\n",
       "    .dataframe tbody tr th:only-of-type {\n",
       "        vertical-align: middle;\n",
       "    }\n",
       "\n",
       "    .dataframe tbody tr th {\n",
       "        vertical-align: top;\n",
       "    }\n",
       "\n",
       "    .dataframe thead th {\n",
       "        text-align: right;\n",
       "    }\n",
       "</style>\n",
       "<table border=\"1\" class=\"dataframe\">\n",
       "  <thead>\n",
       "    <tr style=\"text-align: right;\">\n",
       "      <th></th>\n",
       "      <th>sku</th>\n",
       "      <th>name</th>\n",
       "      <th>desc</th>\n",
       "      <th>price</th>\n",
       "      <th>promo_price</th>\n",
       "      <th>in_stock</th>\n",
       "      <th>type</th>\n",
       "    </tr>\n",
       "  </thead>\n",
       "  <tbody>\n",
       "    <tr>\n",
       "      <th>12209</th>\n",
       "      <td>APP1582</td>\n",
       "      <td>Apple MacBook Air 13 \"i7 22 Ghz | 8GB RAM | 12...</td>\n",
       "      <td>laptop MacBook Air 13 inch i7 22GHz 8GB RAM 12...</td>\n",
       "      <td>1219</td>\n",
       "      <td>11.645.851</td>\n",
       "      <td>0</td>\n",
       "      <td>1282</td>\n",
       "    </tr>\n",
       "  </tbody>\n",
       "</table>\n",
       "</div>"
      ],
      "text/plain": [
       "           sku                                               name  \\\n",
       "12209  APP1582  Apple MacBook Air 13 \"i7 22 Ghz | 8GB RAM | 12...   \n",
       "\n",
       "                                                    desc price promo_price  \\\n",
       "12209  laptop MacBook Air 13 inch i7 22GHz 8GB RAM 12...  1219  11.645.851   \n",
       "\n",
       "       in_stock  type  \n",
       "12209         0  1282  "
      ]
     },
     "execution_count": 65,
     "metadata": {},
     "output_type": "execute_result"
    }
   ],
   "source": [
    "products[products.sku == 'APP1582']"
   ]
  },
  {
   "cell_type": "code",
   "execution_count": 42,
   "id": "a6ce4c4c-fc69-4547-aaf7-14ddfe250f35",
   "metadata": {},
   "outputs": [
    {
     "data": {
      "text/plain": [
       "Index(['short', 'long'], dtype='object')"
      ]
     },
     "execution_count": 42,
     "metadata": {},
     "output_type": "execute_result"
    }
   ],
   "source": [
    "brands.columns"
   ]
  },
  {
   "cell_type": "code",
   "execution_count": 43,
   "id": "e5e7fcfa-23e8-46b6-9f14-f5bd4cac635c",
   "metadata": {},
   "outputs": [
    {
     "data": {
      "text/plain": [
       "NDE    1\n",
       "SOF    1\n",
       "OTT    1\n",
       "CAI    1\n",
       "MAC    1\n",
       "      ..\n",
       "OTR    1\n",
       "MTF    1\n",
       "CRU    1\n",
       "RYV    1\n",
       "TAD    1\n",
       "Name: short, Length: 187, dtype: int64"
      ]
     },
     "execution_count": 43,
     "metadata": {},
     "output_type": "execute_result"
    }
   ],
   "source": [
    "brands.short.value_counts()"
   ]
  },
  {
   "cell_type": "code",
   "execution_count": 57,
   "id": "45e46d3f-b5c2-45f6-a7ab-c1252ae03c79",
   "metadata": {},
   "outputs": [
    {
     "data": {
      "text/plain": [
       "short    0\n",
       "long     0\n",
       "dtype: int64"
      ]
     },
     "execution_count": 57,
     "metadata": {},
     "output_type": "execute_result"
    }
   ],
   "source": [
    "brands.isna().sum()"
   ]
  },
  {
   "cell_type": "code",
   "execution_count": 44,
   "id": "cd14eb2c-691b-459d-832e-95e8f67e9cb6",
   "metadata": {},
   "outputs": [
    {
     "data": {
      "text/plain": [
       "524288    1\n",
       "476482    1\n",
       "326965    1\n",
       "320822    1\n",
       "322871    1\n",
       "         ..\n",
       "475837    1\n",
       "481982    1\n",
       "479935    1\n",
       "305856    1\n",
       "526335    1\n",
       "Name: order_id, Length: 226909, dtype: int64"
      ]
     },
     "execution_count": 44,
     "metadata": {},
     "output_type": "execute_result"
    }
   ],
   "source": [
    "orders.order_id.value_counts()"
   ]
  },
  {
   "cell_type": "code",
   "execution_count": 45,
   "id": "ab400cb7-c659-4f0a-ad21-ea686c9d1895",
   "metadata": {},
   "outputs": [
    {
     "data": {
      "text/plain": [
       "2018-03-05 10:36:05    69\n",
       "2018-03-05 10:36:02    27\n",
       "2018-03-05 10:35:54    27\n",
       "2018-03-05 10:36:51    24\n",
       "2018-03-05 10:36:47    22\n",
       "                       ..\n",
       "2017-10-30 17:38:57     1\n",
       "2017-03-18 18:16:02     1\n",
       "2018-02-01 11:27:17     1\n",
       "2017-08-30 09:52:30     1\n",
       "2017-04-03 13:05:47     1\n",
       "Name: created_date, Length: 224828, dtype: int64"
      ]
     },
     "execution_count": 45,
     "metadata": {},
     "output_type": "execute_result"
    }
   ],
   "source": [
    "orders.created_date.value_counts()"
   ]
  },
  {
   "cell_type": "code",
   "execution_count": 46,
   "id": "ec14cb31-5311-447b-ad86-0f849707bd2a",
   "metadata": {},
   "outputs": [
    {
     "name": "stdout",
     "output_type": "stream",
     "text": [
      "2018-03-14 13:58:36\n"
     ]
    }
   ],
   "source": [
    "print(orders.created_date.max())"
   ]
  },
  {
   "cell_type": "code",
   "execution_count": 47,
   "id": "e5279859-20b7-4439-8a33-84a25caeaf44",
   "metadata": {},
   "outputs": [
    {
     "name": "stdout",
     "output_type": "stream",
     "text": [
      "2017-01-01 00:07:19\n"
     ]
    }
   ],
   "source": [
    "print(orders.created_date.min())"
   ]
  },
  {
   "cell_type": "code",
   "execution_count": null,
   "id": "a51a096b-b0a1-43de-93f9-7c4afd1fb8b5",
   "metadata": {},
   "outputs": [],
   "source": []
  }
 ],
 "metadata": {
  "kernelspec": {
   "display_name": "Python 3",
   "language": "python",
   "name": "python3"
  },
  "language_info": {
   "codemirror_mode": {
    "name": "ipython",
    "version": 3
   },
   "file_extension": ".py",
   "mimetype": "text/x-python",
   "name": "python",
   "nbconvert_exporter": "python",
   "pygments_lexer": "ipython3",
   "version": "3.8.8"
  }
 },
 "nbformat": 4,
 "nbformat_minor": 5
}
